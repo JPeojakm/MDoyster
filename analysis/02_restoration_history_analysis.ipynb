{
 "cells": [
  {
   "cell_type": "code",
   "execution_count": 2,
   "metadata": {},
   "outputs": [],
   "source": [
    "import geopandas as gpd\n",
    "import matplotlib.pyplot as plt\n",
    "import pandas as pd\n",
    "import folium\n",
    "from folium import GeoJson"
   ]
  },
  {
   "cell_type": "markdown",
   "metadata": {},
   "source": [
    "## 1. Load and Examine Data"
   ]
  },
  {
   "cell_type": "code",
   "execution_count": 3,
   "metadata": {},
   "outputs": [],
   "source": [
    "# import the data\n",
    "historical_beds = gpd.read_file(\"/Users/lijinpeng/Desktop/MDoyster/data/Restoration/Yates_Oyster_Bars.geojson\")\n",
    "restoration_areas = gpd.read_file(\"/Users/lijinpeng/Desktop/MDoyster/data/Restoration/Maryland_Shellfish_-_Historic_Oyster_Plantings.geojson\")\n",
    "sanctuaries_areas = gpd.read_file(\"/Users/lijinpeng/Desktop/MDoyster/data/Restoration/Maryland_Shellfish_-_Oyster_Sanctuaries.geojson\")"
   ]
  },
  {
   "cell_type": "code",
   "execution_count": 4,
   "metadata": {},
   "outputs": [
    {
     "name": "stdout",
     "output_type": "stream",
     "text": [
      "<class 'geopandas.geodataframe.GeoDataFrame'>\n",
      "RangeIndex: 6282 entries, 0 to 6281\n",
      "Data columns (total 21 columns):\n",
      " #   Column        Non-Null Count  Dtype              \n",
      "---  ------        --------------  -----              \n",
      " 0   OBJECTID      6282 non-null   int32              \n",
      " 1   ActivityYr    6282 non-null   object             \n",
      " 2   ActType       6282 non-null   object             \n",
      " 3   StartDate     1777 non-null   datetime64[ms, UTC]\n",
      " 4   EndDate       492 non-null    datetime64[ms, UTC]\n",
      " 5   AcresPlant    6282 non-null   float64            \n",
      " 6   VolMill       6282 non-null   float64            \n",
      " 7   VolBu         6282 non-null   float64            \n",
      " 8   BarnamePh     6282 non-null   object             \n",
      " 9   NearBar       6282 non-null   object             \n",
      " 10  RegionPhy     6282 non-null   object             \n",
      " 11  County        6282 non-null   object             \n",
      " 12  CentroidX     6282 non-null   float64            \n",
      " 13  CentroidY     6282 non-null   float64            \n",
      " 14  Sanctuary     6282 non-null   object             \n",
      " 15  ProjectNam    6282 non-null   object             \n",
      " 16  NOAAcode_1    6282 non-null   object             \n",
      " 17  NOAAName      6282 non-null   object             \n",
      " 18  Shape_Length  6282 non-null   float64            \n",
      " 19  Shape_Area    6282 non-null   float64            \n",
      " 20  geometry      6282 non-null   geometry           \n",
      "dtypes: datetime64[ms, UTC](2), float64(7), geometry(1), int32(1), object(10)\n",
      "memory usage: 1006.2+ KB\n",
      "None\n"
     ]
    }
   ],
   "source": [
    "# check the data structure, column name and type\n",
    "print(restoration_areas.info())"
   ]
  },
  {
   "cell_type": "code",
   "execution_count": 5,
   "metadata": {},
   "outputs": [
    {
     "name": "stdout",
     "output_type": "stream",
     "text": [
      "   OBJECTID ActivityYr                 ActType                 StartDate  \\\n",
      "0         1       2017  HATCHERY SEED PLANTING 2017-04-05 00:00:00+00:00   \n",
      "1         2       2017  HATCHERY SEED PLANTING 2017-06-06 00:00:00+00:00   \n",
      "2         3       2017  HATCHERY SEED PLANTING 2017-04-27 00:00:00+00:00   \n",
      "3         4       2017  HATCHERY SEED PLANTING 2017-08-08 00:00:00+00:00   \n",
      "4         5       2017  HATCHERY SEED PLANTING 2017-04-10 00:00:00+00:00   \n",
      "\n",
      "                    EndDate  AcresPlant  VolMill  VolBu           BarnamePh  \\\n",
      "0                       NaT    2.610244    11.78    0.0       TOBACCO STICK   \n",
      "1 2017-06-14 00:00:00+00:00    4.109568    18.69    0.0                       \n",
      "2 2017-05-02 00:00:00+00:00   10.176783    42.32    0.0          LOUIS COVE   \n",
      "3                       NaT    0.858179     4.07    0.0         PECKS POINT   \n",
      "4                       NaT    2.197289    15.72    0.0  BAMINGS COVE ADD 1   \n",
      "\n",
      "       NearBar  ... County  CentroidX  CentroidY  Sanctuary  \\\n",
      "0               ...     DO -76.240723  38.528255          Y   \n",
      "1  MARES POINT  ...     TA -76.154892  38.704562          Y   \n",
      "2               ...     TA -76.151236  38.700005          Y   \n",
      "3               ...     TA -76.163604  38.705278          Y   \n",
      "4               ...     TA -76.142723  38.709381          Y   \n",
      "\n",
      "           ProjectNam NOAAcode_1               NOAAName Shape_Length  \\\n",
      "0               CASON        053  LITTLE CHOPTANK RIVER     0.004462   \n",
      "1         MARES POINT        637        TRED AVON RIVER     0.006001   \n",
      "2          LOUIS COVE        637        TRED AVON RIVER     0.014025   \n",
      "3         PECKS POINT        637        TRED AVON RIVER     0.003697   \n",
      "4  BAMINGS COVE ADD 1        637        TRED AVON RIVER     0.003640   \n",
      "\n",
      "     Shape_Area                                           geometry  \n",
      "0  1.091363e-06  MULTIPOLYGON (((-76.23986 38.52831, -76.24048 ...  \n",
      "1  1.722445e-06  MULTIPOLYGON (((-76.15403 38.70361, -76.1541 3...  \n",
      "2  4.265122e-06  MULTIPOLYGON (((-76.15198 38.70171, -76.15105 ...  \n",
      "3  3.596932e-07  MULTIPOLYGON (((-76.16276 38.70507, -76.16274 ...  \n",
      "4  9.210128e-07  MULTIPOLYGON (((-76.14211 38.70934, -76.14252 ...  \n",
      "\n",
      "[5 rows x 21 columns]\n"
     ]
    }
   ],
   "source": [
    "# check the data sample\n",
    "print(restoration_areas.head())"
   ]
  },
  {
   "cell_type": "code",
   "execution_count": 6,
   "metadata": {},
   "outputs": [],
   "source": [
    "# coordinate system check\n",
    "historical_beds = historical_beds.to_crs(epsg=4326)\n",
    "restoration_areas = restoration_areas.to_crs(epsg=4326)"
   ]
  },
  {
   "cell_type": "code",
   "execution_count": 7,
   "metadata": {},
   "outputs": [],
   "source": [
    "# convert ActivityYr to numeric type\n",
    "restoration_areas['ActivityYr'] = pd.to_numeric(restoration_areas['ActivityYr'], errors='coerce')"
   ]
  },
  {
   "cell_type": "markdown",
   "metadata": {},
   "source": [
    "## 2. Historica Oyster Planting Data Exploration"
   ]
  },
  {
   "cell_type": "markdown",
   "metadata": {},
   "source": [
    "### 2.1 Check the ActType"
   ]
  },
  {
   "cell_type": "code",
   "execution_count": 8,
   "metadata": {},
   "outputs": [],
   "source": [
    "# filter out ActivityYr = NA\n",
    "restoration_areas = restoration_areas.dropna(subset=['ActivityYr'])\n",
    "\n",
    "# filter out ActType = UNKNOWN \n",
    "restoration_areas = restoration_areas[restoration_areas['ActType'] != 'UNKNOWN']\n",
    "\n",
    "# replace HATCHERY SEED PLANTINGS with HATCHERY SEED PLANTING\n",
    "restoration_areas['ActType'] = restoration_areas['ActType'].replace(\n",
    "    {'HATCHERY SEED PLANTINGS': 'HATCHERY SEED PLANTING'}\n",
    ")\n"
   ]
  },
  {
   "cell_type": "code",
   "execution_count": 23,
   "metadata": {},
   "outputs": [
    {
     "name": "stdout",
     "output_type": "stream",
     "text": [
      "ActType includes the following categories: ['HATCHERY SEED PLANTING' 'ALTERNATE MATERIALS' 'DREDGED SHELL ADDITION'\n",
      " 'FRESH SHELL PLANTING' 'WILD SEED PLANTING' 'MIXED SHELL'\n",
      " 'BAR ENHANCEMENT' 'AQUA OYS PLANTING' 'DIRECT SET OYSTER LARVAE'\n",
      " 'MIXED SHELL PLANTING']\n"
     ]
    }
   ],
   "source": [
    "# view the unique value\n",
    "unique_act_types = restoration_areas['ActType'].unique()\n",
    "print(f\"ActType includes the following categories: {unique_act_types}\")\n"
   ]
  },
  {
   "cell_type": "code",
   "execution_count": null,
   "metadata": {},
   "outputs": [
    {
     "name": "stdout",
     "output_type": "stream",
     "text": [
      "               ActType  ActivityYr          area\n",
      "0  ALTERNATE MATERIALS      1953.0  2.230703e-05\n",
      "1  ALTERNATE MATERIALS      2001.0  5.008016e-07\n",
      "2  ALTERNATE MATERIALS      2002.0  1.830280e-05\n",
      "3  ALTERNATE MATERIALS      2003.0  4.758227e-06\n",
      "4  ALTERNATE MATERIALS      2004.0  7.138611e-08\n"
     ]
    },
    {
     "name": "stderr",
     "output_type": "stream",
     "text": [
      "/var/folders/sd/bq10trhj0z7_p4t5bg48p4780000gn/T/ipykernel_92272/1992770729.py:2: UserWarning: Geometry is in a geographic CRS. Results from 'area' are likely incorrect. Use 'GeoSeries.to_crs()' to re-project geometries to a projected CRS before this operation.\n",
      "\n",
      "  restoration_areas['area'] = restoration_areas.geometry.area  # 确保计算面积\n"
     ]
    }
   ],
   "source": [
    "# calculate the area\n",
    "restoration_areas['area'] = restoration_areas.geometry.area  \n",
    "\n",
    "# group by \"ActType\" and \"ActivityYr\", calculate the sum of area\n",
    "acttype_area_by_year = restoration_areas.groupby(['ActType', 'ActivityYr'])['area'].sum().reset_index()\n",
    "\n",
    "print(acttype_area_by_year.head())"
   ]
  },
  {
   "cell_type": "markdown",
   "metadata": {},
   "source": [
    "### 2.2 Explore different time period"
   ]
  },
  {
   "cell_type": "code",
   "execution_count": 11,
   "metadata": {},
   "outputs": [
    {
     "name": "stdout",
     "output_type": "stream",
     "text": [
      "      time_period      area\n",
      "0  2010 and After  0.003214\n",
      "1     Before 2010  0.038239\n"
     ]
    }
   ],
   "source": [
    "# add one new column and mark the label\n",
    "restoration_areas['time_period'] = restoration_areas['ActivityYr'].apply(\n",
    "    lambda x: 'Before 2010' if x < 2010 else '2010 and After'\n",
    ")\n",
    "\n",
    "# group by time_period \n",
    "area_by_time_period = restoration_areas.groupby('time_period')['area'].sum().reset_index()\n",
    "\n",
    "print(area_by_time_period)\n"
   ]
  },
  {
   "cell_type": "code",
   "execution_count": 12,
   "metadata": {},
   "outputs": [
    {
     "name": "stdout",
     "output_type": "stream",
     "text": [
      "                  ActType     time_period      area\n",
      "0  HATCHERY SEED PLANTING  2010 and After  0.001777\n",
      "1    FRESH SHELL PLANTING  2010 and After  0.000692\n",
      "2  DREDGED SHELL ADDITION  2010 and After  0.000352\n",
      "3      WILD SEED PLANTING     Before 2010  0.022854\n",
      "4  DREDGED SHELL ADDITION     Before 2010  0.012942\n",
      "5    FRESH SHELL PLANTING     Before 2010  0.001448\n"
     ]
    },
    {
     "name": "stderr",
     "output_type": "stream",
     "text": [
      "/var/folders/sd/bq10trhj0z7_p4t5bg48p4780000gn/T/ipykernel_92272/1542598286.py:5: DeprecationWarning: DataFrameGroupBy.apply operated on the grouping columns. This behavior is deprecated, and in a future version of pandas the grouping columns will be excluded from the operation. Either pass `include_groups=False` to exclude the groupings or explicitly select the grouping columns after groupby to silence this warning.\n",
      "  top3_types_by_period = area_by_type_and_time.groupby('time_period').apply(\n"
     ]
    }
   ],
   "source": [
    "# 按 ActType 和 time_period 分组计算面积总和\n",
    "area_by_type_and_time = restoration_areas.groupby(['ActType', 'time_period'])['area'].sum().reset_index()\n",
    "\n",
    "# 对每个时间段分别排序并提取前三名\n",
    "top3_types_by_period = area_by_type_and_time.groupby('time_period').apply(\n",
    "    lambda x: x.nlargest(3, 'area')\n",
    ").reset_index(drop=True)\n",
    "\n",
    "\n",
    "print(top3_types_by_period)"
   ]
  },
  {
   "cell_type": "markdown",
   "metadata": {},
   "source": [
    "### 2.3 Spatial analysis"
   ]
  },
  {
   "cell_type": "code",
   "execution_count": 25,
   "metadata": {},
   "outputs": [
    {
     "name": "stderr",
     "output_type": "stream",
     "text": [
      "/var/folders/sd/bq10trhj0z7_p4t5bg48p4780000gn/T/ipykernel_92272/3741935506.py:14: UserWarning: Legend does not support handles for PatchCollection instances.\n",
      "See: https://matplotlib.org/stable/tutorials/intermediate/legend_guide.html#implementing-a-custom-legend-handler\n",
      "  plt.legend()\n",
      "/var/folders/sd/bq10trhj0z7_p4t5bg48p4780000gn/T/ipykernel_92272/3741935506.py:14: UserWarning: No artists with labels found to put in legend.  Note that artists whose label start with an underscore are ignored when legend() is called with no argument.\n",
      "  plt.legend()\n"
     ]
    },
    {
     "data": {
      "image/png": "[encoded data removed]",
      "text/plain": [
       "<Figure size 1200x800 with 1 Axes>"
      ]
     },
     "metadata": {},
     "output_type": "display_data"
    }
   ],
   "source": [
    "# 2010年前后变化\n",
    "\n",
    "# 筛选 2010 年前和 2010 年及之后的数据\n",
    "before_2010 = restoration_areas[restoration_areas['time_period'] == 'Before 2010']\n",
    "after_2010 = restoration_areas[restoration_areas['time_period'] == '2010 and After']\n",
    "\n",
    "# plot the map\n",
    "fig, ax = plt.subplots(figsize=(12, 8))\n",
    "before_2010.plot(ax=ax, color='blue', alpha=0.5, label='Before 2010')\n",
    "after_2010.plot(ax=ax, color='red', alpha=0.5, label='2010 and After')\n",
    "\n",
    "# title and legend\n",
    "plt.title('spatial distribution changes of the area', fontsize=16)\n",
    "plt.legend()\n",
    "plt.show()\n"
   ]
  },
  {
   "cell_type": "code",
   "execution_count": null,
   "metadata": {},
   "outputs": [
    {
     "name": "stderr",
     "output_type": "stream",
     "text": [
      "/Users/lijinpeng/anaconda3/envs/geo/lib/python3.12/site-packages/shapely/set_operations.py:131: RuntimeWarning: invalid value encountered in intersection\n",
      "  return lib.intersection(a, b, **kwargs)\n",
      "/Users/lijinpeng/anaconda3/envs/geo/lib/python3.12/site-packages/geopandas/geodataframe.py:2675: UserWarning: `keep_geom_type=True` in overlay resulted in 1 dropped geometries of different geometry types than df1 has. Set `keep_geom_type=False` to retain all geometries\n",
      "  return geopandas.overlay(\n",
      "/var/folders/sd/bq10trhj0z7_p4t5bg48p4780000gn/T/ipykernel_92272/1070439988.py:12: UserWarning: Legend does not support handles for PatchCollection instances.\n",
      "See: https://matplotlib.org/stable/tutorials/intermediate/legend_guide.html#implementing-a-custom-legend-handler\n",
      "  plt.legend()\n",
      "/var/folders/sd/bq10trhj0z7_p4t5bg48p4780000gn/T/ipykernel_92272/1070439988.py:12: UserWarning: No artists with labels found to put in legend.  Note that artists whose label start with an underscore are ignored when legend() is called with no argument.\n",
      "  plt.legend()\n",
      "/Users/lijinpeng/anaconda3/envs/geo/lib/python3.12/site-packages/IPython/core/pylabtools.py:152: UserWarning: Glyph 31354 (\\N{CJK UNIFIED IDEOGRAPH-7A7A}) missing from font(s) DejaVu Sans.\n",
      "  fig.canvas.print_figure(bytes_io, **kw)\n",
      "/Users/lijinpeng/anaconda3/envs/geo/lib/python3.12/site-packages/IPython/core/pylabtools.py:152: UserWarning: Glyph 38388 (\\N{CJK UNIFIED IDEOGRAPH-95F4}) missing from font(s) DejaVu Sans.\n",
      "  fig.canvas.print_figure(bytes_io, **kw)\n",
      "/Users/lijinpeng/anaconda3/envs/geo/lib/python3.12/site-packages/IPython/core/pylabtools.py:152: UserWarning: Glyph 37325 (\\N{CJK UNIFIED IDEOGRAPH-91CD}) missing from font(s) DejaVu Sans.\n",
      "  fig.canvas.print_figure(bytes_io, **kw)\n",
      "/Users/lijinpeng/anaconda3/envs/geo/lib/python3.12/site-packages/IPython/core/pylabtools.py:152: UserWarning: Glyph 21472 (\\N{CJK UNIFIED IDEOGRAPH-53E0}) missing from font(s) DejaVu Sans.\n",
      "  fig.canvas.print_figure(bytes_io, **kw)\n",
      "/Users/lijinpeng/anaconda3/envs/geo/lib/python3.12/site-packages/IPython/core/pylabtools.py:152: UserWarning: Glyph 19982 (\\N{CJK UNIFIED IDEOGRAPH-4E0E}) missing from font(s) DejaVu Sans.\n",
      "  fig.canvas.print_figure(bytes_io, **kw)\n",
      "/Users/lijinpeng/anaconda3/envs/geo/lib/python3.12/site-packages/IPython/core/pylabtools.py:152: UserWarning: Glyph 26032 (\\N{CJK UNIFIED IDEOGRAPH-65B0}) missing from font(s) DejaVu Sans.\n",
      "  fig.canvas.print_figure(bytes_io, **kw)\n",
      "/Users/lijinpeng/anaconda3/envs/geo/lib/python3.12/site-packages/IPython/core/pylabtools.py:152: UserWarning: Glyph 22686 (\\N{CJK UNIFIED IDEOGRAPH-589E}) missing from font(s) DejaVu Sans.\n",
      "  fig.canvas.print_figure(bytes_io, **kw)\n",
      "/Users/lijinpeng/anaconda3/envs/geo/lib/python3.12/site-packages/IPython/core/pylabtools.py:152: UserWarning: Glyph 21306 (\\N{CJK UNIFIED IDEOGRAPH-533A}) missing from font(s) DejaVu Sans.\n",
      "  fig.canvas.print_figure(bytes_io, **kw)\n",
      "/Users/lijinpeng/anaconda3/envs/geo/lib/python3.12/site-packages/IPython/core/pylabtools.py:152: UserWarning: Glyph 22495 (\\N{CJK UNIFIED IDEOGRAPH-57DF}) missing from font(s) DejaVu Sans.\n",
      "  fig.canvas.print_figure(bytes_io, **kw)\n"
     ]
    },
    {
     "data": {
      "image/png": "[encoded data removed]",
      "text/plain": [
       "<Figure size 1200x800 with 1 Axes>"
      ]
     },
     "metadata": {},
     "output_type": "display_data"
    }
   ],
   "source": [
    "# further analysis: 2010 new added and overlap\n",
    "# 重叠区域\n",
    "overlap = before_2010.overlay(after_2010, how='intersection')\n",
    "\n",
    "# 2010 年新增区域（在 2010 年前不存在）\n",
    "new_areas = after_2010.overlay(before_2010, how='difference')\n",
    "\n",
    "# 绘制地图显示新增区域和重叠区域\n",
    "fig, ax = plt.subplots(figsize=(12, 8))\n",
    "overlap.plot(ax=ax, color='green', label='Overlap (Both Periods)')\n",
    "new_areas.plot(ax=ax, color='orange', label='New Areas (After 2010)')\n",
    "plt.title('空间重叠与新增区域', fontsize=16)\n",
    "plt.legend()\n",
    "plt.show()\n"
   ]
  },
  {
   "cell_type": "markdown",
   "metadata": {},
   "source": [
    "## 3. Assess if new areas are in new habitats or historically Oyster bar"
   ]
  },
  {
   "cell_type": "code",
   "execution_count": 15,
   "metadata": {},
   "outputs": [],
   "source": [
    "# GeoDataFrame 使用的是地理坐标系（Geographic CRS，例如 EPSG:4326），而不是投影坐标系（Projected CRS，例如 EPSG:3857）。几何面积计算在地理坐标系下是不准确的，因为地理坐标系以经纬度表示，不适合直接进行面积测量。\n"
   ]
  },
  {
   "cell_type": "code",
   "execution_count": 16,
   "metadata": {},
   "outputs": [
    {
     "name": "stdout",
     "output_type": "stream",
     "text": [
      "EPSG:26918\n",
      "EPSG:26918\n"
     ]
    }
   ],
   "source": [
    "# 转换为 UTM 投影 (EPSG:26918) - MD crs\n",
    "new_areas = new_areas.to_crs(epsg=26918)\n",
    "historical_beds = historical_beds.to_crs(epsg=26918)\n",
    "\n",
    "# 检查 CRS 是否已成功转换\n",
    "print(new_areas.crs)\n",
    "print(historical_beds.crs)\n"
   ]
  },
  {
   "cell_type": "code",
   "execution_count": 17,
   "metadata": {},
   "outputs": [],
   "source": [
    "# 计算新增修复区域的总面积\n",
    "new_areas['total_area'] = new_areas.geometry.area\n",
    "\n",
    "# 计算新增修复区域与历史牡蛎床的重叠区域\n",
    "overlap_with_history = new_areas.overlay(historical_beds, how='intersection')\n",
    "overlap_with_history['overlap_area'] = overlap_with_history.geometry.area\n"
   ]
  },
  {
   "cell_type": "code",
   "execution_count": 18,
   "metadata": {},
   "outputs": [
    {
     "name": "stdout",
     "output_type": "stream",
     "text": [
      "新增修复区域与历史牡蛎床的重叠比例: 72.76%\n"
     ]
    }
   ],
   "source": [
    "# 计算重叠比例\n",
    "overlap_ratio = overlap_with_history['overlap_area'].sum() / new_areas['total_area'].sum()\n",
    "print(f\"新增修复区域与历史牡蛎床的重叠比例: {overlap_ratio:.2%}\")\n"
   ]
  },
  {
   "cell_type": "markdown",
   "metadata": {},
   "source": [
    "## 4. How much smaller are restoration areas compared to historic oyster bars?"
   ]
  },
  {
   "cell_type": "code",
   "execution_count": 19,
   "metadata": {},
   "outputs": [
    {
     "name": "stdout",
     "output_type": "stream",
     "text": [
      "历史牡蛎床总面积: 871494220.95 平方米\n",
      "2010 年之前修复区域面积: 370987771.31 平方米，减少比例: 57.43%\n",
      "2022 年及之前修复区域面积: 400778797.10 平方米，减少比例: 54.01%\n"
     ]
    }
   ],
   "source": [
    "# 确保投影为 EPSG:26918，用于面积计算\n",
    "restoration_areas = restoration_areas.to_crs(epsg=26918)\n",
    "historical_beds = historical_beds.to_crs(epsg=26918)\n",
    "\n",
    "# 筛选 2010 年之前和 2022 年及之前的数据\n",
    "restoration_before_2010 = restoration_areas[restoration_areas['ActivityYr'] <= 2010]\n",
    "restoration_before_2022 = restoration_areas[restoration_areas['ActivityYr'] <= 2022]\n",
    "\n",
    "# 计算每个时间段的修复区域总面积\n",
    "area_before_2010 = restoration_before_2010.geometry.area.sum()\n",
    "area_before_2022 = restoration_before_2022.geometry.area.sum()\n",
    "\n",
    "# 计算历史牡蛎床总面积\n",
    "historical_area = historical_beds.geometry.area.sum()\n",
    "\n",
    "# 计算面积减少比例\n",
    "reduction_2010 = (historical_area - area_before_2010) / historical_area * 100\n",
    "reduction_2022 = (historical_area - area_before_2022) / historical_area * 100\n",
    "\n",
    "# 打印结果\n",
    "print(f\"历史牡蛎床总面积: {historical_area:.2f} 平方米\")\n",
    "print(f\"2010 年之前修复区域面积: {area_before_2010:.2f} 平方米，减少比例: {reduction_2010:.2f}%\")\n",
    "print(f\"2022 年及之前修复区域面积: {area_before_2022:.2f} 平方米，减少比例: {reduction_2022:.2f}%\")\n"
   ]
  },
  {
   "cell_type": "markdown",
   "metadata": {},
   "source": [
    "## 5. Change in sanctuary area size"
   ]
  },
  {
   "cell_type": "code",
   "execution_count": 20,
   "metadata": {},
   "outputs": [
    {
     "name": "stdout",
     "output_type": "stream",
     "text": [
      "<class 'geopandas.geodataframe.GeoDataFrame'>\n",
      "RangeIndex: 59 entries, 0 to 58\n",
      "Data columns (total 10 columns):\n",
      " #   Column        Non-Null Count  Dtype   \n",
      "---  ------        --------------  -----   \n",
      " 0   OBJECTID      59 non-null     int32   \n",
      " 1   CLOSNAME      59 non-null     object  \n",
      " 2   CLOSTYPE      59 non-null     object  \n",
      " 3   TRIBNAME      59 non-null     object  \n",
      " 4   REF           59 non-null     object  \n",
      " 5   ACRES         59 non-null     float64 \n",
      " 6   COMMENTS      59 non-null     object  \n",
      " 7   Shape_Length  59 non-null     float64 \n",
      " 8   Shape_Area    59 non-null     float64 \n",
      " 9   geometry      59 non-null     geometry\n",
      "dtypes: float64(3), geometry(1), int32(1), object(5)\n",
      "memory usage: 4.5+ KB\n",
      "None\n"
     ]
    }
   ],
   "source": [
    "print(sanctuaries_areas.info())"
   ]
  },
  {
   "cell_type": "code",
   "execution_count": null,
   "metadata": {},
   "outputs": [
    {
     "name": "stdout",
     "output_type": "stream",
     "text": [
      "                  CLOSTYPE    Total_Area\n",
      "0  PRE-SEPT 2010 SANCTUARY  1.799748e+08\n",
      "1      SEPT 2010 SANCTUARY  8.442442e+08\n"
     ]
    }
   ],
   "source": [
    "# 确保数据集使用投影坐标系\n",
    "sanctuaries_areas = sanctuaries_areas.to_crs(epsg=26918)\n",
    "\n",
    "# 按 CLOSTYPE 分组计算每类的总面积\n",
    "sanctuary_areas = sanctuaries_areas.groupby('CLOSTYPE')['geometry'].apply(\n",
    "    lambda x: x.area.sum()\n",
    ").reset_index()\n",
    "\n",
    "# 重命名列\n",
    "sanctuary_areas.columns = ['CLOSTYPE', 'Total_Area']\n",
    "\n",
    "# 打印结果\n",
    "print(sanctuary_areas)\n"
   ]
  },
  {
   "cell_type": "code",
   "execution_count": 22,
   "metadata": {},
   "outputs": [
    {
     "name": "stdout",
     "output_type": "stream",
     "text": [
      "                  CLOSTYPE     Total_Area\n",
      "0  PRE-SEPT 2010 SANCTUARY 179,974,809.72\n",
      "1      SEPT 2010 SANCTUARY 844,244,198.13\n"
     ]
    }
   ],
   "source": [
    "# 设置 Pandas 显示格式，禁用科学计数法\n",
    "pd.options.display.float_format = '{:,.2f}'.format\n",
    "\n",
    "# 再次查看数据\n",
    "print(sanctuary_areas)"
   ]
  },
  {
   "cell_type": "code",
   "execution_count": null,
   "metadata": {},
   "outputs": [],
   "source": []
  }
 ],
 "metadata": {
  "kernelspec": {
   "display_name": "geo",
   "language": "python",
   "name": "python3"
  },
  "language_info": {
   "codemirror_mode": {
    "name": "ipython",
    "version": 3
   },
   "file_extension": ".py",
   "mimetype": "text/x-python",
   "name": "python",
   "nbconvert_exporter": "python",
   "pygments_lexer": "ipython3",
   "version": "3.12.6"
  }
 },
 "nbformat": 4,
 "nbformat_minor": 2
}
